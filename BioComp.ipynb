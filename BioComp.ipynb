{
 "cells": [
  {
   "cell_type": "code",
   "execution_count": 59,
   "metadata": {},
   "outputs": [],
   "source": [
    "from time import time\n",
    "import json\n",
    "import numpy as np\n",
    "import matplotlib.pyplot as plt\n",
    "from abc import ABC, abstractmethod\n"
   ]
  },
  {
   "cell_type": "code",
   "execution_count": 60,
   "metadata": {},
   "outputs": [],
   "source": [
    "class BlosumMatrix:\n",
    "    def __init__(self, json_filename, matrix_type):\n",
    "        self.blosum_matrix = self.load_blosum_from_json(json_filename, matrix_type)\n",
    "        \n",
    "\n",
    "    def load_blosum_from_json(self, json_filename, matrix_type):\n",
    "        with open(json_filename, 'r') as json_file:\n",
    "            data = json.load(json_file)\n",
    "            blosum_matrix = data[0].get(matrix_type, {})\n",
    "        return blosum_matrix\n",
    "\n",
    "    def get_score(self, amino1, amino2):\n",
    "        return self.blosum_matrix.get(amino1, {}).get(amino2, 0)"
   ]
  },
  {
   "cell_type": "code",
   "execution_count": 61,
   "metadata": {},
   "outputs": [],
   "source": [
    "def create_dot_plot(alignment1, alignment2, type_align=\"\"):\n",
    "    matrix1 = np.array(list(alignment1))\n",
    "    matrix2 = np.array(list(alignment2))\n",
    "\n",
    "    matching_positions = np.where(matrix1 == matrix2)\n",
    "    plt.figure(figsize=(len(alignment1) / 2, len(alignment2) / 2))\n",
    "\n",
    "    plt.plot(matching_positions[0], matching_positions[0], 'ko', markersize=3)\n",
    "\n",
    "    plt.xticks(range(len(alignment1)), alignment1)\n",
    "    plt.yticks(range(len(alignment2)), alignment2)\n",
    "\n",
    "    plt.title(f\"Alineamiento {type_align}\")\n",
    "    plt.grid(True)\n",
    "    plt.show()\n",
    "\n",
    "def calcular_tiempo_ejecucion(func):\n",
    "    def wrapper(*args, **kwargs):\n",
    "        start_time = time()\n",
    "        resultado = func(*args, **kwargs)\n",
    "        end_time = time()\n",
    "        tiempo_ejecucion = end_time - start_time\n",
    "        print(f\"Tiempo de ejecución de {func.__name__}: {tiempo_ejecucion} segundos\")\n",
    "        return resultado\n",
    "    return wrapper\n"
   ]
  },
  {
   "cell_type": "markdown",
   "metadata": {},
   "source": [
    "## Alineación Global - El Algoritmo de Needleman-Wunsch\n",
    "    - Sin BLOSUM\n",
    "    - Con BLOSUM"
   ]
  },
  {
   "cell_type": "code",
   "execution_count": 62,
   "metadata": {},
   "outputs": [],
   "source": [
    "class Alignment(ABC):\n",
    "    def __init__(self, seq1, seq2):\n",
    "        self.seq1 = seq1\n",
    "        self.seq2 = seq2\n",
    "\n",
    "    @abstractmethod\n",
    "    def align(self):\n",
    "        pass\n",
    "\n",
    "class NeedlemanWunsch(Alignment):\n",
    "    def __init__(self, seq1, seq2, gap_penalty, match_score, mismatch_penalty, blosum_matrix=None):\n",
    "        self.seq1 = seq1\n",
    "        self.seq2 = seq2\n",
    "        self.gap_penalty = gap_penalty\n",
    "        self.match_score = match_score\n",
    "        self.mismatch_penalty = mismatch_penalty\n",
    "        self.blosum_matrix = blosum_matrix\n",
    "    \n",
    "    def calculate_score_matrix(self):\n",
    "        m, n = len(self.seq1), len(self.seq2)\n",
    "        F = np.zeros((m + 1, n + 1), dtype=int)\n",
    "\n",
    "        for i in range(1, m + 1):\n",
    "            F[i][0] = self.gap_penalty * i\n",
    "        for j in range(1, n + 1):\n",
    "            F[0][j] = self.gap_penalty * j\n",
    "\n",
    "        for i in range(1, m + 1):\n",
    "            for j in range(1, n + 1):\n",
    "                if self.blosum_matrix:\n",
    "                    match_ = F[i - 1][j - 1] + self.blosum_matrix.get_score(self.seq1[i - 1], self.seq2[j - 1])\n",
    "                else:\n",
    "                    match_ = F[i - 1][j - 1] + (self.match_score if self.seq1[i - 1] == self.seq2[j - 1] else self.mismatch_penalty)\n",
    "                delete = F[i - 1][j] + self.gap_penalty\n",
    "                insert = F[i][j - 1] + self.gap_penalty\n",
    "                F[i][j] = max(match_, delete, insert)\n",
    "\n",
    "        return F\n",
    "\n",
    "    def trace_back(self, F):\n",
    "        m, n = len(self.seq1), len(self.seq2)\n",
    "        alignment1, alignment2 = '', ''\n",
    "        i, j = m, n\n",
    "\n",
    "        while i > 0 or j > 0:\n",
    "            if i > 0 and j > 0:\n",
    "                if self.blosum_matrix:\n",
    "                    if F[i][j] == F[i - 1][j - 1] + self.blosum_matrix.get_score(self.seq1[i - 1], self.seq2[j - 1]):\n",
    "                        alignment1 = self.seq1[i - 1] + alignment1\n",
    "                        alignment2 = self.seq2[j - 1] + alignment2\n",
    "                        i -= 1\n",
    "                        j -= 1\n",
    "                    else:\n",
    "                        if F[i][j] == F[i - 1][j] + self.gap_penalty:\n",
    "                            alignment1 = self.seq1[i - 1] + alignment1\n",
    "                            alignment2 = '-' + alignment2\n",
    "                            i -= 1\n",
    "                        else:\n",
    "                            alignment1 = '-' + alignment1\n",
    "                            alignment2 = self.seq2[j - 1] + alignment2\n",
    "                            j -= 1\n",
    "                else:\n",
    "                    if F[i][j] == F[i - 1][j - 1] + (self.match_score if self.seq1[i - 1] == self.seq2[j - 1] else self.mismatch_penalty):\n",
    "                        alignment1 = self.seq1[i - 1] + alignment1\n",
    "                        alignment2 = self.seq2[j - 1] + alignment2\n",
    "                        i -= 1\n",
    "                        j -= 1\n",
    "                    else:\n",
    "                        if F[i][j] == F[i - 1][j] + self.gap_penalty:\n",
    "                            alignment1 = self.seq1[i - 1] + alignment1\n",
    "                            alignment2 = '-' + alignment2\n",
    "                            i -= 1\n",
    "                        else:\n",
    "                            alignment1 = '-' + alignment1\n",
    "                            alignment2 = self.seq2[j - 1] + alignment2\n",
    "                            j -= 1\n",
    "            else:\n",
    "                if i > 0:\n",
    "                    alignment1 = self.seq1[i - 1] + alignment1\n",
    "                    alignment2 = '-' + alignment2\n",
    "                    i -= 1\n",
    "                else:\n",
    "                    alignment1 = '-' + alignment1\n",
    "                    alignment2 = self.seq2[j - 1] + alignment2\n",
    "                    j -= 1\n",
    "\n",
    "        return alignment1, alignment2\n",
    "\n",
    "    def align(self):\n",
    "        score_matrix = self.calculate_score_matrix()\n",
    "        aligned_seq1, aligned_seq2 = self.trace_back(score_matrix)\n",
    "        return aligned_seq1, aligned_seq2"
   ]
  },
  {
   "cell_type": "code",
   "execution_count": 63,
   "metadata": {},
   "outputs": [
    {
     "name": "stdout",
     "output_type": "stream",
     "text": [
      "Alignment 1: ATCGAT-CG-TACGTACG-\n",
      "Alignment 2: A-CG-TACGAT-CGTACGA\n"
     ]
    }
   ],
   "source": [
    "#seq1 = \"GTGGGTTAGCTAGGTAGCTAGGTTTAGCTAGGTTTAGCTAGGTTTAGCTAGGTTTAGCTAGGTAGCTAGGTTTAGCTAGGTTTAGCTAGGTTTAGCTAGGTTTAGCTAGGTTTAGCTAGGTTTAGCTAGGT\"\n",
    "#seq2 = \"TAGCTAGGTTTAGCTAGGTTTAGCTAGGTTTAGCTAGGTAGCTAGGTTTAGCTAGGTTTAGCTAGGTTTAGCTAGGTTTAGCTAGGTTTAGCTAGGTTTAGCTAGGTTTAGCTAGGTTTAGCTAGGTTTAGC\"\n",
    "\n",
    "#seq1 =  \"ARNDCEQGH\"\n",
    "#seq2 = \"ARNDCDEQH\"\n",
    "\n",
    "#seq1 = \"AGCCT\"\n",
    "#seq2 = \"ACCT\"\n",
    "\n",
    "seq1 = \"ATCGATCGTACGTACG\"\n",
    "seq2 = \"ACGTACGATCGTACGA\"\n",
    "\n",
    "gap_penalty = -2\n",
    "match_score = 1\n",
    "mismatch_penalty = -1\n",
    "\n",
    "json_filename = \"blosum.json\"\n",
    "matrix_type = \"90\"\n",
    "blosum_scorer = BlosumMatrix(json_filename, matrix_type)\n",
    "alignment = NeedlemanWunsch(seq1, seq2, gap_penalty, match_score, mismatch_penalty, blosum_matrix=blosum_scorer)\n",
    "alignment1, alignment2  = alignment.align()\n",
    "\n",
    "print(\"Alignment 1:\", alignment1)\n",
    "print(\"Alignment 2:\", alignment2)"
   ]
  },
  {
   "cell_type": "code",
   "execution_count": 64,
   "metadata": {},
   "outputs": [
    {
     "data": {
      "image/png": "[encoded data removed]",
      "text/plain": [
       "<Figure size 950x950 with 1 Axes>"
      ]
     },
     "metadata": {},
     "output_type": "display_data"
    }
   ],
   "source": [
    "create_dot_plot(alignment1, alignment2, type_align=\"Needleman Wunsch\")\n"
   ]
  },
  {
   "cell_type": "code",
   "execution_count": 65,
   "metadata": {},
   "outputs": [
    {
     "name": "stdout",
     "output_type": "stream",
     "text": [
      "Secuencia 1 alineada: A--T-CGATCGTACGTA\n",
      "Secuencia 2 alineada: ACGTACGATCGTACG-A\n"
     ]
    }
   ],
   "source": [
    "class SmithWaterman(Alignment):\n",
    "    def __init__(self, seq1, seq2, match=2, mismatch=0, gap=0, blosum_matrix=None):\n",
    "        super().__init__(seq1, seq2)\n",
    "        self.match = match\n",
    "        self.mismatch = mismatch\n",
    "        self.gap = gap\n",
    "        self.blosum_matrix = blosum_matrix\n",
    "    \n",
    "    def calculate_score_matrix(self):\n",
    "        matrix = [[0] * (len(self.seq2) + 1) for _ in range(len(self.seq1) + 1)]\n",
    "\n",
    "        max_score = 0\n",
    "        max_i, max_j = 0, 0\n",
    "\n",
    "        for i in range(1, len(self.seq1) + 1):\n",
    "            for j in range(1, len(self.seq2) + 1):\n",
    "                if self.blosum_matrix:\n",
    "                    score = matrix[i - 1][j - 1] + self.blosum_matrix.get_score(self.seq1[i - 1], self.seq2[j - 1])\n",
    "                else:\n",
    "                    if self.seq1[i - 1] == self.seq2[j - 1]:\n",
    "                        score = matrix[i - 1][j - 1] + self.match\n",
    "                    else:\n",
    "                        score = matrix[i - 1][j - 1] + self.mismatch\n",
    "\n",
    "                score = max(0, score, matrix[i - 1][j] + self.gap, matrix[i][j - 1] + self.gap)\n",
    "                matrix[i][j] = score\n",
    "\n",
    "                if score > max_score:\n",
    "                    max_score = score\n",
    "                    max_i, max_j = i, j\n",
    "\n",
    "        return matrix, max_i, max_j\n",
    "\n",
    "    def trace_back(self, score_matrix, max_i, max_j):\n",
    "        aligned_seq1, aligned_seq2 = \"\", \"\"\n",
    "        i, j = max_i, max_j\n",
    "\n",
    "        while score_matrix[i][j] != 0:\n",
    "            if i > 0 and j > 0 and score_matrix[i][j] == score_matrix[i - 1][j - 1] + (self.match if self.seq1[i - 1] == self.seq2[j - 1] else self.mismatch):\n",
    "                aligned_seq1 = self.seq1[i - 1] + aligned_seq1\n",
    "                aligned_seq2 = self.seq2[j - 1] + aligned_seq2\n",
    "                i -= 1\n",
    "                j -= 1\n",
    "            elif i > 0 and score_matrix[i][j] == score_matrix[i - 1][j] + self.gap:\n",
    "                aligned_seq1 = self.seq1[i - 1] + aligned_seq1\n",
    "                aligned_seq2 = \"-\" + aligned_seq2\n",
    "                i -= 1\n",
    "            else:\n",
    "                aligned_seq1 = \"-\" + aligned_seq1\n",
    "                aligned_seq2 = self.seq2[j - 1] + aligned_seq2\n",
    "                j -= 1\n",
    "\n",
    "        return aligned_seq1, aligned_seq2\n",
    "\n",
    "    def align(self):\n",
    "        score_matrix, max_i, max_j = self.calculate_score_matrix()\n",
    "        aligned_seq1, aligned_seq2 = self.trace_back(score_matrix, max_i, max_j)\n",
    "        return aligned_seq1, aligned_seq2\n",
    "    \n",
    "seq1 = \"ATCGATCGTACGTACG\"\n",
    "seq2 = \"ACGTACGATCGTACGA\"\n",
    "blosum_scorer = BlosumMatrix(json_filename, matrix_type)\n",
    "local_alignment = SmithWaterman(seq1, seq2, match=1)\n",
    "aligned_seq1, aligned_seq2 = local_alignment.align()\n",
    "print(\"Secuencia 1 alineada:\", aligned_seq1)\n",
    "print(\"Secuencia 2 alineada:\", aligned_seq2)"
   ]
  },
  {
   "cell_type": "code",
   "execution_count": 66,
   "metadata": {},
   "outputs": [
    {
     "data": {
      "image/png": "[encoded data removed]",
      "text/plain": [
       "<Figure size 850x850 with 1 Axes>"
      ]
     },
     "metadata": {},
     "output_type": "display_data"
    }
   ],
   "source": [
    "create_dot_plot(aligned_seq1, aligned_seq2, type_align=\"Smith Waterman\")"
   ]
  },
  {
   "cell_type": "code",
   "execution_count": 75,
   "metadata": {},
   "outputs": [
    {
     "name": "stdout",
     "output_type": "stream",
     "text": [
      "Tiempo promedio de ejecución para local_alignment.align(): 0.035642147064208984 segundos\n",
      "Tiempo promedio de ejecución para global_alignment.align(): 0.08045083284378052 segundos\n"
     ]
    }
   ],
   "source": [
    "import time\n",
    "import json\n",
    "\n",
    "local_alignment_times = []\n",
    "global_alignment_times = []\n",
    "\n",
    "def calcular_tiempo_ejecucion(times_list):\n",
    "    def decorator(func):\n",
    "        def wrapper(*args, **kwargs):\n",
    "            start_time = time.time()\n",
    "            resultado = func(*args, **kwargs)\n",
    "            end_time = time.time()\n",
    "            tiempo_ejecucion = end_time - start_time\n",
    "            times_list.append(tiempo_ejecucion)\n",
    "            return resultado\n",
    "        return wrapper\n",
    "    return decorator\n",
    "\n",
    "@calcular_tiempo_ejecucion(local_alignment_times)\n",
    "def local_alignment_algorithm(local_alignment):\n",
    "    local_alignment.calculate_score_matrix()\n",
    "\n",
    "@calcular_tiempo_ejecucion(global_alignment_times)\n",
    "def global_alignment_algorithm(global_alignment):\n",
    "    \n",
    "    global_alignment.calculate_score_matrix()\n",
    "\n",
    "with open(\"protein.json\", \"r\") as json_file:\n",
    "    data = json.load(json_file)\n",
    "\n",
    "gap_penalty = -1\n",
    "match_score = 1\n",
    "mismatch_penalty = -1\n",
    "\n",
    "for protein in data:\n",
    "    seq1 = protein[0][\"protein1\"]\n",
    "    seq2 = protein[1][\"protein2\"]\n",
    "    global_alignment = NeedlemanWunsch(seq1, seq2, gap_penalty, match_score, mismatch_penalty)\n",
    "    local_alignment = SmithWaterman(seq1, seq2, match=1)\n",
    "\n",
    "    global_alignment_algorithm(global_alignment)\n",
    "    local_alignment_algorithm(local_alignment)\n",
    "\n",
    "average_local_time = sum(local_alignment_times) / len(local_alignment_times)\n",
    "average_global_time = sum(global_alignment_times) / len(global_alignment_times)\n",
    "\n",
    "print(f\"Tiempo promedio de ejecución para local_alignment.align(): {average_local_time} segundos\")\n",
    "print(f\"Tiempo promedio de ejecución para global_alignment.align(): {average_global_time} segundos\")\n"
   ]
  }
 ],
 "metadata": {
  "kernelspec": {
   "display_name": "Python 3",
   "language": "python",
   "name": "python3"
  },
  "language_info": {
   "codemirror_mode": {
    "name": "ipython",
    "version": 3
   },
   "file_extension": ".py",
   "mimetype": "text/x-python",
   "name": "python",
   "nbconvert_exporter": "python",
   "pygments_lexer": "ipython3",
   "version": "3.8.10"
  },
  "orig_nbformat": 4
 },
 "nbformat": 4,
 "nbformat_minor": 2
}
